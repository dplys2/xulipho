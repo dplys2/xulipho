{
 "cells": [
  {
   "cell_type": "code",
   "execution_count": 3,
   "metadata": {},
   "outputs": [
    {
     "name": "stdout",
     "output_type": "stream",
     "text": [
      "D:\\DataE\\20190722\\MOTT\\mo2.csv\n",
      "D:\\DataE\\20190722\\MOTT\\mo3.csv\n",
      "D:\\DataE\\20190722\\MOTT\\mo4.csv\n",
      "D:\\DataE\\20190722\\MOTT\\mo5.csv\n",
      "D:\\DataE\\20190722\\MOTT\\mo6.csv\n",
      "D:\\DataE\\20190722\\MOTT\\mo2.csv\n",
      "D:\\DataE\\20190722\\MOTT\\mo3.csv\n",
      "D:\\DataE\\20190722\\MOTT\\mo4.csv\n",
      "D:\\DataE\\20190722\\MOTT\\mo5.csv\n",
      "D:\\DataE\\20190722\\MOTT\\mo6.csv\n",
      "D:\\DataE\\20190722\\MOTT\\mo2.csv\n",
      "D:\\DataE\\20190722\\MOTT\\mo3.csv\n",
      "D:\\DataE\\20190722\\MOTT\\mo4.csv\n",
      "D:\\DataE\\20190722\\MOTT\\mo5.csv\n",
      "D:\\DataE\\20190722\\MOTT\\mo6.csv\n",
      "D:\\DataE\\20190722\\MOTT\\mo2.csv\n",
      "D:\\DataE\\20190722\\MOTT\\mo3.csv\n",
      "D:\\DataE\\20190722\\MOTT\\mo4.csv\n",
      "D:\\DataE\\20190722\\MOTT\\mo5.csv\n",
      "D:\\DataE\\20190722\\MOTT\\mo6.csv\n",
      "D:\\DataE\\20190722\\MOTT\\mo2.csv\n",
      "D:\\DataE\\20190722\\MOTT\\mo3.csv\n",
      "D:\\DataE\\20190722\\MOTT\\mo4.csv\n",
      "D:\\DataE\\20190722\\MOTT\\mo5.csv\n",
      "D:\\DataE\\20190722\\MOTT\\mo6.csv\n",
      "D:\\DataE\\20190722\\MOTT\\mo2.csv\n",
      "D:\\DataE\\20190722\\MOTT\\mo3.csv\n",
      "D:\\DataE\\20190722\\MOTT\\mo4.csv\n",
      "D:\\DataE\\20190722\\MOTT\\mo5.csv\n",
      "D:\\DataE\\20190722\\MOTT\\mo6.csv\n"
     ]
    }
   ],
   "source": [
    "import pandas as pd\n",
    "import numpy as np\n",
    "\n",
    "for kenh in range(1,7,1):\n",
    "    df = pd.read_csv('D:\\DataE\\\\20190722\\\\MOTT\\\\mo1.csv')\n",
    "    solieu = df[str(kenh - 1)]\n",
    "    for i in range(2,7,1):\n",
    "        filepath = 'D:\\DataE\\\\20190722\\\\MOTT\\\\mo' + str(i) + '.csv'\n",
    "        print(filepath)\n",
    "        df = pd.read_csv(filepath)\n",
    "        solieu = np.column_stack((solieu, df[str(kenh - 1)]))\n",
    "\n",
    "    filename = 'D:\\DataE\\\\20190722\\\\MOTT\\\\test' + str(kenh) + '.csv' \n",
    "    df = pd.DataFrame(solieu)\n",
    "    df.to_csv(filename, index = False)"
   ]
  },
  {
   "cell_type": "code",
   "execution_count": null,
   "metadata": {},
   "outputs": [],
   "source": []
  }
 ],
 "metadata": {
  "kernelspec": {
   "display_name": "Python 3",
   "language": "python",
   "name": "python3"
  },
  "language_info": {
   "codemirror_mode": {
    "name": "ipython",
    "version": 3
   },
   "file_extension": ".py",
   "mimetype": "text/x-python",
   "name": "python",
   "nbconvert_exporter": "python",
   "pygments_lexer": "ipython3",
   "version": "3.7.3"
  }
 },
 "nbformat": 4,
 "nbformat_minor": 2
}
