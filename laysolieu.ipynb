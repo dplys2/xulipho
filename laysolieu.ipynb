{
 "cells": [
  {
   "cell_type": "code",
   "execution_count": 12,
   "metadata": {},
   "outputs": [
    {
     "name": "stdout",
     "output_type": "stream",
     "text": [
      "D:\\DataE\\20190714\\MBTT\\mb3.csv\n",
      "D:\\DataE\\20190714\\MBTT\\mb4.csv\n",
      "D:\\DataE\\20190714\\MBTT\\mb5.csv\n",
      "D:\\DataE\\20190714\\MBTT\\mb6.csv\n",
      "D:\\DataE\\20190714\\MBTT\\mb7.csv\n"
     ]
    }
   ],
   "source": [
    "import pandas as pd\n",
    "import numpy as np\n",
    "kenh = 6\n",
    "\n",
    "df = pd.read_csv('D:\\DataE\\\\20190714\\\\MBTT\\\\mb2.csv')\n",
    "solieu = df[str(kenh - 1)]\n",
    "for i in range(3,8,1):\n",
    "    filepath = 'D:\\DataE\\\\20190714\\\\MBTT\\\\mb' + str(i) + '.csv'\n",
    "    print(filepath)\n",
    "    df = pd.read_csv(filepath)\n",
    "    solieu = np.column_stack((solieu, df[str(kenh - 1)]))\n",
    "\n",
    "filename = 'D:\\DataE\\\\20190714\\\\MBTT\\\\test' + str(kenh) + '.csv' \n",
    "df = pd.DataFrame(solieu)\n",
    "df.to_csv(filename, index = False)"
   ]
  },
  {
   "cell_type": "code",
   "execution_count": null,
   "metadata": {},
   "outputs": [],
   "source": []
  }
 ],
 "metadata": {
  "kernelspec": {
   "display_name": "Python 3",
   "language": "python",
   "name": "python3"
  },
  "language_info": {
   "codemirror_mode": {
    "name": "ipython",
    "version": 3
   },
   "file_extension": ".py",
   "mimetype": "text/x-python",
   "name": "python",
   "nbconvert_exporter": "python",
   "pygments_lexer": "ipython3",
   "version": "3.7.3"
  }
 },
 "nbformat": 4,
 "nbformat_minor": 2
}
