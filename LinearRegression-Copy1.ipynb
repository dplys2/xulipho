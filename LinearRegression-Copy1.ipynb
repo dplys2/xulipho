{
 "cells": [
  {
   "cell_type": "code",
   "execution_count": 2,
   "metadata": {},
   "outputs": [],
   "source": [
    "from __future__ import division, print_function, unicode_literals\n",
    "import numpy as np \n",
    "import matplotlib.pyplot as plt"
   ]
  },
  {
   "cell_type": "code",
   "execution_count": 3,
   "metadata": {},
   "outputs": [
    {
     "data": {
      "image/png": "[encoded data removed]",
      "text/plain": [
       "<Figure size 432x288 with 1 Axes>"
      ]
     },
     "metadata": {
      "needs_background": "light"
     },
     "output_type": "display_data"
    }
   ],
   "source": [
    "# height (cm)\n",
    "X = np.array([[0.005, 0.010, 0.015, 0.020, 0.025, 0.030]]).T\n",
    "# weight (kg)\n",
    "# y = np.array([[0.3277743887591704 ,\n",
    "# 0.3911574423906424 ,\n",
    "# 0.5382781378774741 ,\n",
    "# 0.6107028850801685 ,\n",
    "# 0.6809127732084159 ,\n",
    "# 0.7639955547233397]]).T\n",
    "y = np.array([[0.24943,\n",
    "0.25338,\n",
    "0.48598,\n",
    "0.66807,\n",
    "0.79758,\n",
    "0.89744,]]).T\n",
    "# Visualize data \n",
    "plt.plot(X, y, 'ro')\n",
    "plt.axis([0, 0.035, 0, 1])\n",
    "plt.xlabel('Height (cm)')\n",
    "plt.ylabel('Weight (kg)')\n",
    "plt.show()"
   ]
  },
  {
   "cell_type": "code",
   "execution_count": 4,
   "metadata": {},
   "outputs": [
    {
     "name": "stdout",
     "output_type": "stream",
     "text": [
      "w =  [[ 0.05317267]\n",
      " [28.88422857]]\n",
      "[0.005      0.00777778 0.01055556 0.01333333 0.01611111 0.01888889\n",
      " 0.02166667 0.02444444 0.02722222 0.03      ]\n",
      "[0.19759381 0.27782778 0.35806175 0.43829571 0.51852968 0.59876365\n",
      " 0.67899762 0.75923159 0.83946556 0.91969952]\n"
     ]
    },
    {
     "data": {
      "image/png": "[encoded data removed]",
      "text/plain": [
       "<Figure size 432x288 with 1 Axes>"
      ]
     },
     "metadata": {
      "needs_background": "light"
     },
     "output_type": "display_data"
    }
   ],
   "source": [
    "# Building Xbar \n",
    "one = np.ones((X.shape[0], 1))\n",
    "Xbar = np.concatenate((one, X), axis = 1)\n",
    "\n",
    "# Calculating weights of the fitting line \n",
    "A = np.dot(Xbar.T, Xbar)\n",
    "b = np.dot(Xbar.T, y)\n",
    "w = np.dot(np.linalg.pinv(A), b)\n",
    "print('w = ', w)\n",
    "# Preparing the fitting line \n",
    "w_0 = w[0][0]\n",
    "w_1 = w[1][0]\n",
    "x0 = np.linspace(5, 30, 10)/1000\n",
    "print(x0)\n",
    "y0 = w_0 + w_1*x0\n",
    "print(y0)\n",
    "# Drawing the fitting line \n",
    "plt.plot(X.T, y.T, 'ro')     # data \n",
    "plt.plot(x0, y0, 'b')               # the fitting line\n",
    "plt.axis([0, 0.035, 0, 1])\n",
    "plt.xlabel('Height (cm)')\n",
    "plt.ylabel('Weight (kg)')\n",
    "plt.show()"
   ]
  },
  {
   "cell_type": "code",
   "execution_count": 5,
   "metadata": {},
   "outputs": [
    {
     "name": "stdout",
     "output_type": "stream",
     "text": [
      "Predict weight of person with height 155 cm: 4477.11 (kg), real number: 52 (kg)\n",
      "Predict weight of person with height 160 cm: 4621.53 (kg), real number: 56 (kg)\n"
     ]
    }
   ],
   "source": [
    "y1 = w_1*155 + w_0\n",
    "y2 = w_1*160 + w_0\n",
    "\n",
    "print( u'Predict weight of person with height 155 cm: %.2f (kg), real number: 52 (kg)'  %(y1) )\n",
    "print( u'Predict weight of person with height 160 cm: %.2f (kg), real number: 56 (kg)'  %(y2) )"
   ]
  },
  {
   "cell_type": "code",
   "execution_count": 6,
   "metadata": {},
   "outputs": [
    {
     "name": "stdout",
     "output_type": "stream",
     "text": [
      "Solution found by scikit-learn  :  [[ 0.05317267 28.88422857]]\n",
      "Solution found by (5):  [[ 0.05317267 28.88422857]]\n"
     ]
    }
   ],
   "source": [
    "from sklearn import datasets, linear_model\n",
    "\n",
    "# fit the model by Linear Regression\n",
    "regr = linear_model.LinearRegression(fit_intercept=False) # fit_intercept = False for calculating the bias\n",
    "regr.fit(Xbar, y)\n",
    "\n",
    "# Compare two results\n",
    "print( 'Solution found by scikit-learn  : ', regr.coef_ )\n",
    "print( 'Solution found by (5): ', w.T)"
   ]
  },
  {
   "cell_type": "code",
   "execution_count": 7,
   "metadata": {},
   "outputs": [
    {
     "name": "stdout",
     "output_type": "stream",
     "text": [
      "28.884228571428583\n"
     ]
    }
   ],
   "source": [
    "print(regr.coef_[0][1])"
   ]
  },
  {
   "cell_type": "code",
   "execution_count": 8,
   "metadata": {},
   "outputs": [
    {
     "name": "stdout",
     "output_type": "stream",
     "text": [
      "[[0.19759381]\n",
      " [0.34201495]\n",
      " [0.4864361 ]\n",
      " [0.63085724]\n",
      " [0.77527838]\n",
      " [0.91969952]]\n",
      "[[0.24943]\n",
      " [0.25338]\n",
      " [0.48598]\n",
      " [0.66807]\n",
      " [0.79758]\n",
      " [0.89744]]\n"
     ]
    },
    {
     "data": {
      "text/plain": [
       "0.9658108484244331"
      ]
     },
     "execution_count": 8,
     "metadata": {},
     "output_type": "execute_result"
    }
   ],
   "source": [
    "from sklearn.metrics import r2_score\n",
    "y_pred = w_0 + w_1*X\n",
    "print(y_pred)\n",
    "print(y)\n",
    "r2_score(y, y_pred)"
   ]
  },
  {
   "cell_type": "code",
   "execution_count": 9,
   "metadata": {},
   "outputs": [
    {
     "name": "stdout",
     "output_type": "stream",
     "text": [
      "Solution found by scikit-learn  :  [[-3.44000000e-02  4.84514286e+01]]\n"
     ]
    },
    {
     "data": {
      "image/png": "[encoded data removed]",
      "text/plain": [
       "<Figure size 432x288 with 1 Axes>"
      ]
     },
     "metadata": {
      "needs_background": "light"
     },
     "output_type": "display_data"
    },
    {
     "name": "stdout",
     "output_type": "stream",
     "text": [
      "R2:  0.9865175887502584\n",
      "Solution found by UV-VIS:  48.451428571428586\n",
      "R2:  0.9658108484244331\n",
      "Solution found by Smartphone:  [28.88422857]\n"
     ]
    }
   ],
   "source": [
    "ynew = np.array([[0.229,\n",
    "0.403,\n",
    "0.734,\n",
    "0.877,\n",
    "1.25,\n",
    "1.388,\n",
    "]]).T\n",
    "regr = linear_model.LinearRegression(fit_intercept=False) # fit_intercept = False for calculating the bias\n",
    "regr.fit(Xbar, ynew)\n",
    "print( 'Solution found by scikit-learn  : ', regr.coef_ )\n",
    "ynew_pred = regr.coef_[0][0] + regr.coef_[0][1]*X\n",
    "yn = regr.coef_[0][0] + regr.coef_[0][1]*x0\n",
    "\n",
    "plt.plot(X.T, y.T, 'ro')     # data \n",
    "plt.plot(x0, y0, 'm')               # the fitting line\n",
    "plt.plot(X.T, ynew.T, 'bo')\n",
    "plt.plot(x0, yn, 'g')   \n",
    "plt.axis([0, 0.035, 0, 2.6])\n",
    "plt.show()\n",
    "print('R2: ',r2_score(ynew, ynew_pred))\n",
    "print( 'Solution found by UV-VIS: ', regr.coef_[0][1])\n",
    "print('R2: ',r2_score(y, y_pred))\n",
    "print( 'Solution found by Smartphone: ', w[1].T)"
   ]
  },
  {
   "cell_type": "code",
   "execution_count": 27,
   "metadata": {},
   "outputs": [
    {
     "data": {
      "text/plain": [
       "3.0281531531531534"
      ]
     },
     "execution_count": 27,
     "metadata": {},
     "output_type": "execute_result"
    }
   ],
   "source": [
    "80.67/26.64"
   ]
  },
  {
   "cell_type": "code",
   "execution_count": null,
   "metadata": {},
   "outputs": [],
   "source": []
  }
 ],
 "metadata": {
  "kernelspec": {
   "display_name": "Python 3",
   "language": "python",
   "name": "python3"
  },
  "language_info": {
   "codemirror_mode": {
    "name": "ipython",
    "version": 3
   },
   "file_extension": ".py",
   "mimetype": "text/x-python",
   "name": "python",
   "nbconvert_exporter": "python",
   "pygments_lexer": "ipython3",
   "version": "3.7.3"
  }
 },
 "nbformat": 4,
 "nbformat_minor": 2
}
