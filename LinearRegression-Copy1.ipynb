{
 "cells": [
  {
   "cell_type": "code",
   "execution_count": 2,
   "metadata": {},
   "outputs": [],
   "source": [
    "from __future__ import division, print_function, unicode_literals\n",
    "import numpy as np \n",
    "import matplotlib.pyplot as plt"
   ]
  },
  {
   "cell_type": "code",
   "execution_count": 5,
   "metadata": {},
   "outputs": [
    {
     "data": {
      "image/png": "[encoded data removed]",
      "text/plain": [
       "<Figure size 432x288 with 1 Axes>"
      ]
     },
     "metadata": {
      "needs_background": "light"
     },
     "output_type": "display_data"
    }
   ],
   "source": [
    "# height (cm)\n",
    "X = np.array([[0.025, 0.02, 0.015, 0.010, 0.005]]).T\n",
    "# weight (kg)\n",
    "y = np.array([[ 0.574 ,\n",
    "0.5093 ,\n",
    "0.17712 ,\n",
    "0.12264,\n",
    "0.11508 ,]]).T\n",
    "# Visualize data \n",
    "plt.plot(X, y, 'ro')\n",
    "plt.axis([0, 0.035, 0, 0.7])\n",
    "plt.xlabel('Height (cm)')\n",
    "plt.ylabel('Weight (kg)')\n",
    "plt.show()"
   ]
  },
  {
   "cell_type": "code",
   "execution_count": 12,
   "metadata": {},
   "outputs": [
    {
     "name": "stdout",
     "output_type": "stream",
     "text": [
      "w =  [[-0.091722]\n",
      " [26.09    ]]\n",
      "[0.05       0.07777778 0.10555556 0.13333333 0.16111111 0.18888889\n",
      " 0.21666667 0.24444444 0.27222222 0.3       ]\n"
     ]
    },
    {
     "data": {
      "image/png": "[encoded data removed]",
      "text/plain": [
       "<Figure size 432x288 with 1 Axes>"
      ]
     },
     "metadata": {
      "needs_background": "light"
     },
     "output_type": "display_data"
    }
   ],
   "source": [
    "# Building Xbar \n",
    "one = np.ones((X.shape[0], 1))\n",
    "Xbar = np.concatenate((one, X), axis = 1)\n",
    "\n",
    "# Calculating weights of the fitting line \n",
    "A = np.dot(Xbar.T, Xbar)\n",
    "b = np.dot(Xbar.T, y)\n",
    "w = np.dot(np.linalg.pinv(A), b)\n",
    "print('w = ', w)\n",
    "# Preparing the fitting line \n",
    "w_0 = w[0][0]\n",
    "w_1 = w[1][0]\n",
    "x0 = np.linspace(5, 30, 10)\n",
    "x0 = np.true_divide(x0, 100)\n",
    "y0 = w_0 + w_1*x0\n",
    "print(x0)\n",
    "# Drawing the fitting line \n",
    "plt.plot(X.T, y.T, 'ro')     # data \n",
    "plt.plot(x0, y0)               # the fitting line\n",
    "plt.axis([0, 0.35, 0, 2])\n",
    "plt.xlabel('Height (cm)')\n",
    "plt.ylabel('Weight (kg)')\n",
    "plt.show()"
   ]
  },
  {
   "cell_type": "code",
   "execution_count": 13,
   "metadata": {},
   "outputs": [
    {
     "name": "stdout",
     "output_type": "stream",
     "text": [
      "Predict weight of person with height 155 cm: 4043.86 (kg), real number: 52 (kg)\n",
      "Predict weight of person with height 160 cm: 4174.31 (kg), real number: 56 (kg)\n"
     ]
    }
   ],
   "source": [
    "y1 = w_1*155 + w_0\n",
    "y2 = w_1*160 + w_0\n",
    "\n",
    "print( u'Predict weight of person with height 155 cm: %.2f (kg), real number: 52 (kg)'  %(y1) )\n",
    "print( u'Predict weight of person with height 160 cm: %.2f (kg), real number: 56 (kg)'  %(y2) )"
   ]
  },
  {
   "cell_type": "code",
   "execution_count": 14,
   "metadata": {},
   "outputs": [
    {
     "name": "stdout",
     "output_type": "stream",
     "text": [
      "Solution found by scikit-learn  :  [[-0.091722 26.09    ]]\n",
      "Solution found by (5):  [[-0.091722 26.09    ]]\n"
     ]
    }
   ],
   "source": [
    "from sklearn import datasets, linear_model\n",
    "\n",
    "# fit the model by Linear Regression\n",
    "regr = linear_model.LinearRegression(fit_intercept=False) # fit_intercept = False for calculating the bias\n",
    "regr.fit(Xbar, y)\n",
    "\n",
    "# Compare two results\n",
    "print( 'Solution found by scikit-learn  : ', regr.coef_ )\n",
    "print( 'Solution found by (5): ', w.T)"
   ]
  },
  {
   "cell_type": "code",
   "execution_count": 7,
   "metadata": {},
   "outputs": [
    {
     "name": "stdout",
     "output_type": "stream",
     "text": [
      "6.396756756756758\n"
     ]
    }
   ],
   "source": [
    "print(regr.coef_[0][1])"
   ]
  },
  {
   "cell_type": "code",
   "execution_count": 17,
   "metadata": {},
   "outputs": [
    {
     "name": "stdout",
     "output_type": "stream",
     "text": [
      "[[0.560528]\n",
      " [0.430078]\n",
      " [0.299628]\n",
      " [0.169178]\n",
      " [0.038728]]\n",
      "[[0.574  ]\n",
      " [0.5093 ]\n",
      " [0.17712]\n",
      " [0.12264]\n",
      " [0.11508]]\n"
     ]
    },
    {
     "data": {
      "text/plain": [
       "0.8524231772373574"
      ]
     },
     "execution_count": 17,
     "metadata": {},
     "output_type": "execute_result"
    }
   ],
   "source": [
    "from sklearn.metrics import r2_score\n",
    "y_pred = w_0 + w_1*X\n",
    "print(y_pred)\n",
    "print(y)\n",
    "r2_score(y, y_pred)"
   ]
  },
  {
   "cell_type": "code",
   "execution_count": 21,
   "metadata": {},
   "outputs": [
    {
     "name": "stdout",
     "output_type": "stream",
     "text": [
      "Solution found by scikit-learn  :  [[4.100e-03 2.682e+01]]\n"
     ]
    },
    {
     "data": {
      "image/png": "[encoded data removed]",
      "text/plain": [
       "<Figure size 432x288 with 1 Axes>"
      ]
     },
     "metadata": {
      "needs_background": "light"
     },
     "output_type": "display_data"
    },
    {
     "name": "stdout",
     "output_type": "stream",
     "text": [
      "R2:  0.9986167043912277\n",
      "Solution found by UV-VIS:  26.820000000000004\n",
      "R2:  0.8524231772373574\n",
      "Solution found by Avantes:  [26.09]\n"
     ]
    }
   ],
   "source": [
    "ynew = np.array([[\n",
    "0.673,\n",
    "0.534,\n",
    "0.416,\n",
    "0.279,\n",
    "0.13]]).T\n",
    "regr = linear_model.LinearRegression(fit_intercept=False) # fit_intercept = False for calculating the bias\n",
    "regr.fit(Xbar, ynew)\n",
    "print( 'Solution found by scikit-learn  : ', regr.coef_ )\n",
    "ynew_pred = regr.coef_[0][0] + regr.coef_[0][1]*X\n",
    "yn = regr.coef_[0][0] + regr.coef_[0][1]*x0\n",
    "\n",
    "plt.plot(X.T, y.T, 'ro')     # data \n",
    "plt.plot(x0, y0, 'm')               # the fitting line\n",
    "plt.plot(X.T, ynew.T, 'bo')\n",
    "plt.plot(x0, yn, 'g')   \n",
    "plt.axis([0, 0.035, 0, 0.7])\n",
    "plt.show()\n",
    "print('R2: ',r2_score(ynew, ynew_pred))\n",
    "print( 'Solution found by UV-VIS: ', regr.coef_[0][1])\n",
    "print('R2: ',r2_score(y, y_pred))\n",
    "print( 'Solution found by Avantes: ', w[1].T)"
   ]
  },
  {
   "cell_type": "code",
   "execution_count": null,
   "metadata": {},
   "outputs": [],
   "source": []
  },
  {
   "cell_type": "code",
   "execution_count": null,
   "metadata": {},
   "outputs": [],
   "source": []
  }
 ],
 "metadata": {
  "kernelspec": {
   "display_name": "Python 3",
   "language": "python",
   "name": "python3"
  },
  "language_info": {
   "codemirror_mode": {
    "name": "ipython",
    "version": 3
   },
   "file_extension": ".py",
   "mimetype": "text/x-python",
   "name": "python",
   "nbconvert_exporter": "python",
   "pygments_lexer": "ipython3",
   "version": "3.7.3"
  }
 },
 "nbformat": 4,
 "nbformat_minor": 2
}
