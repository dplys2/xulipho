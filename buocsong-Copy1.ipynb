{
 "cells": [
  {
   "cell_type": "code",
   "execution_count": 1,
   "metadata": {},
   "outputs": [],
   "source": [
    "import numpy as np\n",
    "import pandas as pd\n",
    "from tvxla import *\n",
    "\n",
    "dk = 4300-2300+1\n",
    "x1 = np.ones((dk))\n",
    "x2 = np.ones((dk))\n",
    "x3 = np.ones((dk))\n",
    "x4 = np.ones((dk))\n",
    "x5 = np.ones((dk))\n",
    "x6 = np.ones((dk))\n",
    "buocsong1 = 436.28841\n",
    "buocsong2 = 546.30482\n",
    "deltabs = buocsong2 - buocsong1\n",
    "\n",
    "c1 = [347, 346, 347, 356, 391, 423]\n",
    "c2 = [999, 1001, 999, 1018, 1047, 1079]"
   ]
  },
  {
   "cell_type": "code",
   "execution_count": 2,
   "metadata": {},
   "outputs": [],
   "source": [
    "x1 = wavelength(dk, buocsong1, c1[0], c2[0], deltabs)\n",
    "x2 = wavelength(dk, buocsong1, c1[1], c2[1], deltabs)\n",
    "x3 = wavelength(dk, buocsong1, c1[2], c2[2], deltabs)\n",
    "x4 = wavelength(dk, buocsong1, c1[3], c2[3], deltabs)\n",
    "x5 = wavelength(dk, buocsong1, c1[4], c2[4], deltabs)\n",
    "x6 = wavelength(dk, buocsong1, c1[5], c2[5], deltabs)"
   ]
  },
  {
   "cell_type": "code",
   "execution_count": 3,
   "metadata": {},
   "outputs": [],
   "source": [
    "solieu = np.column_stack((x1,x2,x3,x4,x5,x6))\n",
    "filename = 'D:\\DataE\\\\20190721\\CAL\\\\rawcal.csv'\n",
    "df = pd.DataFrame(solieu)\n",
    "df.to_csv(filename, index = False)"
   ]
  },
  {
   "cell_type": "code",
   "execution_count": 7,
   "metadata": {},
   "outputs": [],
   "source": [
    "filepath = 'D:\\DataE\\\\20190721\\\\MO2\\\\'\n",
    "phan = 'mo'\n",
    "df = pd.read_csv(filepath + phan + '.csv')\n",
    "\n",
    "solieu = np.column_stack((x1,df['0'],x2,df['1'],x3,df['2'],x4,df['3'],x5,df['4'],x6,df['5']))\n",
    "filename = 'daghepbs.csv'\n",
    "df = pd.DataFrame(solieu)\n",
    "df.to_csv(filepath + filename, index = False)"
   ]
  },
  {
   "cell_type": "code",
   "execution_count": null,
   "metadata": {},
   "outputs": [],
   "source": [
    "for i in range(2,8,1):\n",
    "    filepath = 'D:\\DataE\\\\20190714\\\\MBTT\\\\'\n",
    "    df = pd.read_csv('D:\\DataE\\\\20190714\\\\MBTT\\\\' + 'cmau' + str(i) + '.csv')\n",
    "    solieu = np.column_stack((x1,df['0'],x2,df['1'],x3,df['2'],x4,df['3'],x5,df['4'],x6,df['5']))\n",
    "    filename = filepath + 'cmau' + str(i) + '.csv'\n",
    "    df = pd.DataFrame(solieu)\n",
    "    df.to_csv(filename, index = False)"
   ]
  }
 ],
 "metadata": {
  "kernelspec": {
   "display_name": "Python 3",
   "language": "python",
   "name": "python3"
  },
  "language_info": {
   "codemirror_mode": {
    "name": "ipython",
    "version": 3
   },
   "file_extension": ".py",
   "mimetype": "text/x-python",
   "name": "python",
   "nbconvert_exporter": "python",
   "pygments_lexer": "ipython3",
   "version": "3.7.3"
  }
 },
 "nbformat": 4,
 "nbformat_minor": 2
}
