{
 "cells": [
  {
   "cell_type": "code",
   "execution_count": 2,
   "metadata": {},
   "outputs": [
    {
     "data": {
      "image/png": "[encoded data removed]",
      "text/plain": [
       "<Figure size 432x288 with 1 Axes>"
      ]
     },
     "metadata": {
      "needs_background": "light"
     },
     "output_type": "display_data"
    }
   ],
   "source": [
    "#Xu li Methylene blue tu 0.03mM den 0.005mM\n",
    "\n",
    "import matplotlib.pyplot as plt\n",
    "import matplotlib.image as mpimg\n",
    "import numpy as np\n",
    "import pandas as pd\n",
    "from skimage import measure\n",
    "from skimage.transform import rotate\n",
    "\n",
    "fnameb1 = \"mau1_base1.jpg\"\n",
    "fnameb2 = \"mau2_base1.jpg\"\n",
    "fnameb3 = \"mau3_base1.jpg\"\n",
    "img1 = mpimg.imread(fnameb1)\n",
    "img2 = mpimg.imread(fnameb2)\n",
    "img3 = mpimg.imread(fnameb3)\n",
    "base = np.sum([anh1,anh2,anh3],axis=0)/3\n",
    "\n",
    "\n",
    "fnamed1 = \"do1v1.jpg\"\n",
    "fnamed2 = \"do1v2.jpg\"\n",
    "fnamed3 = \"do1v3.jpg\"\n",
    "img1 = mpimg.imread(fnamed1)\n",
    "xoay1=rotate(img1, 181.5)\n",
    "anh1 = np.dot(xoay1[...,:3], [100, 100, 100])\n",
    "img2 = mpimg.imread(fnamed2)\n",
    "xoay2=rotate(img2, 181.5)\n",
    "anh2 = np.dot(xoay2[...,:3], [100, 100, 100])\n",
    "img3 = mpimg.imread(fnamed3)\n",
    "xoay3=rotate(img3, 181.5)\n",
    "anh3 = np.dot(xoay3[...,:3], [100, 100, 100])\n",
    "do = np.sum([anh1,anh2,anh3],axis=0)/3\n",
    "\n",
    "x = np.zeros((20,5313))\n",
    "n = np.zeros((20,5313))\n",
    "for i in range(0, 20):\n",
    "    x[i] = measure.profile_line(base, (492-10 + i, 0), (492-10 + i, 5312))\n",
    "    n[i] = measure.profile_line(do, (492-10 + i, 0), (492-10 + i, 5312))\n",
    "\n",
    "ty = np.mean(x, axis = 0)\n",
    "tm = np.mean(n, axis = 0)\n",
    "\n",
    "np.seterr(divide='ignore', invalid='ignore')\n",
    "xm = np.divide(tm,ty)\n",
    "kenh1 = - np.log10(xm)\n",
    "\n",
    "del x\n",
    "del n\n",
    "del xm\n",
    "x = np.zeros((20,5313))\n",
    "n = np.zeros((20,5313))\n",
    "for i in range(0, 20):\n",
    "    x[i] = measure.profile_line(base, (792-10 + i, 0), (792-10 + i, 5312))\n",
    "    n[i] = measure.profile_line(do, (792-10 + i, 0), (792-10 + i, 5312))\n",
    "\n",
    "ty = np.mean(x, axis = 0)\n",
    "tm = np.mean(n, axis = 0)\n",
    "\n",
    "np.seterr(divide='ignore', invalid='ignore')\n",
    "xm = np.divide(tm,ty)\n",
    "kenh2 = - np.log10(xm)\n",
    "\n",
    "del x\n",
    "del n\n",
    "del xm\n",
    "x = np.zeros((20,5313))\n",
    "n = np.zeros((20,5313))\n",
    "for i in range(0, 20):\n",
    "    x[i] = measure.profile_line(base, (1196-10 + i, 0), (1196-10 + i, 5312))\n",
    "    n[i] = measure.profile_line(do, (1196-10 + i, 0), (1196-10 + i, 5312))\n",
    "\n",
    "ty = np.mean(x, axis = 0)\n",
    "tm = np.mean(n, axis = 0)\n",
    "\n",
    "np.seterr(divide='ignore', invalid='ignore')\n",
    "xm = np.divide(tm,ty)\n",
    "kenh3 = - np.log10(xm)\n",
    "\n",
    "del x\n",
    "del n\n",
    "del xm\n",
    "x = np.zeros((20,5313))\n",
    "n = np.zeros((20,5313))\n",
    "for i in range(0, 20):\n",
    "    x[i] = measure.profile_line(base, (1472-10 + i, 0), (1472-10 + i, 5312))\n",
    "    n[i] = measure.profile_line(do, (1472-10 + i, 0), (1472-10 + i, 5312))\n",
    "\n",
    "ty = np.mean(x, axis = 0)\n",
    "tm = np.mean(n, axis = 0)\n",
    "\n",
    "np.seterr(divide='ignore', invalid='ignore')\n",
    "xm = np.divide(tm,ty)\n",
    "kenh4 = - np.log10(xm)\n",
    "\n",
    "del x\n",
    "del n\n",
    "del xm\n",
    "x = np.zeros((20,5313))\n",
    "n = np.zeros((20,5313))\n",
    "for i in range(0, 20):\n",
    "    x[i] = measure.profile_line(base, (1848-10 + i, 0), (1848-10 + i, 5312))\n",
    "    n[i] = measure.profile_line(do, (1848-10 + i, 0), (1848-10 + i, 5312))\n",
    "\n",
    "ty = np.mean(x, axis = 0)\n",
    "tm = np.mean(n, axis = 0)\n",
    "\n",
    "np.seterr(divide='ignore', invalid='ignore')\n",
    "xm = np.divide(tm,ty)\n",
    "kenh5 = - np.log10(xm)\n",
    "\n",
    "del x\n",
    "del n\n",
    "del xm\n",
    "x = np.zeros((20,5313))\n",
    "n = np.zeros((20,5313))\n",
    "for i in range(0, 20):\n",
    "    x[i] = measure.profile_line(base, (2160-10 + i, 0), (2160-10 + i, 5312))\n",
    "    n[i] = measure.profile_line(do, (2160-10 + i, 0), (2160-10 + i, 5312))\n",
    "\n",
    "ty = np.mean(x, axis = 0)\n",
    "tm = np.mean(n, axis = 0)\n",
    "\n",
    "np.seterr(divide='ignore', invalid='ignore')\n",
    "xm = np.divide(tm,ty)\n",
    "kenh6 = - np.log10(xm)\n",
    "\n",
    "plt.plot(kenh1,'r',label='kenh1')\n",
    "plt.plot(kenh2,'g',label='kenh2')\n",
    "plt.plot(kenh3,'b',label='kenh3')\n",
    "plt.plot(kenh4,'k',label='kenh4')\n",
    "plt.plot(kenh5,'c',label='kenh5')\n",
    "plt.plot(kenh6,'m',label='kenh6')\n",
    "plt.legend(loc='upper right')\n",
    "plt.show()\n",
    "# for j in range(1,4):\n",
    "#     if j == 1:\n",
    "#         a = 'r'\n",
    "#     if j == 2:\n",
    "#         a = 'b'\n",
    "#     if j == 3:\n",
    "#         a = 'g'\n",
    "#     plt.plot(y[j], a,label='b1v' + str(j) + \".jpg\")\n",
    "#     plt.plot(m[j], a,label='b1v' + str(j) + \".jpg\")\n",
    "# plt.legend(loc='upper right')\n",
    "# plt.savefig('ss.png', dpi = 150)    \n",
    "# plt.show()"
   ]
  },
  {
   "cell_type": "code",
   "execution_count": 4,
   "metadata": {},
   "outputs": [],
   "source": [
    "# df = pd.DataFrame(kenh1)\n",
    "# df.to_csv(\"dkenh1.csv\")\n",
    "# df = pd.DataFrame(kenh2)\n",
    "# df.to_csv(\"dkenh2.csv\")\n",
    "# df = pd.DataFrame(kenh3)\n",
    "# df.to_csv(\"dkenh3.csv\")\n",
    "# df = pd.DataFrame(kenh4)\n",
    "# df.to_csv(\"dkenh4.csv\")\n",
    "# df = pd.DataFrame(kenh5)\n",
    "# df.to_csv(\"dkenh5.csv\")\n",
    "# df = pd.DataFrame(kenh6)\n",
    "# df.to_csv(\"dkenh6.csv\")"
   ]
  },
  {
   "cell_type": "code",
   "execution_count": 3,
   "metadata": {},
   "outputs": [],
   "source": [
    "li = []\n",
    "df = pd.DataFrame(kenh1)\n",
    "li.append(df)\n",
    "df = pd.DataFrame(kenh2)\n",
    "li.append(df)\n",
    "df = pd.DataFrame(kenh3)\n",
    "li.append(df)\n",
    "df = pd.DataFrame(kenh4)\n",
    "li.append(df)\n",
    "df = pd.DataFrame(kenh5)\n",
    "li.append(df)\n",
    "df = pd.DataFrame(kenh6)\n",
    "li.append(df)\n",
    "frame = pd.concat(li, axis=1, ignore_index=True)\n",
    "frame.to_csv(\"xuli1.csv\")"
   ]
  },
  {
   "cell_type": "code",
   "execution_count": 5,
   "metadata": {},
   "outputs": [
    {
     "name": "stdout",
     "output_type": "stream",
     "text": [
      "inf ,\n",
      "inf ,\n",
      "inf ,\n",
      "inf ,\n",
      "inf ,\n",
      "inf ,\n"
     ]
    }
   ],
   "source": [
    "print(np.nanmax(kenh1),\",\")\n",
    "print(np.nanmax(kenh2),\",\")\n",
    "print(np.nanmax(kenh3),\",\")\n",
    "print(np.nanmax(kenh4),\",\")\n",
    "print(np.nanmax(kenh5),\",\")\n",
    "print(np.nanmax(kenh6),\",\")"
   ]
  },
  {
   "cell_type": "code",
   "execution_count": 41,
   "metadata": {},
   "outputs": [],
   "source": [
    "df = pd.DataFrame(kenh2)\n",
    "df.to_csv(\"kenh2solieu.csv\")\n",
    "df = pd.DataFrame(kenh2)\n",
    "df.to_csv(\"kenh2solieu.csv\")"
   ]
  },
  {
   "cell_type": "code",
   "execution_count": 45,
   "metadata": {},
   "outputs": [],
   "source": [
    "\n",
    "x = measure.profile_line(base, (812, 0), (812, 5312))\n",
    "\n",
    "df = pd.DataFrame(x)\n",
    "df.to_csv(\"ledspectrum.csv\")"
   ]
  },
  {
   "cell_type": "code",
   "execution_count": 19,
   "metadata": {},
   "outputs": [
    {
     "name": "stdout",
     "output_type": "stream",
     "text": [
      "1\n",
      "2\n",
      "3\n"
     ]
    }
   ],
   "source": [
    "for i in range(1,4):\n",
    "    print(i)"
   ]
  },
  {
   "cell_type": "code",
   "execution_count": null,
   "metadata": {},
   "outputs": [],
   "source": []
  }
 ],
 "metadata": {
  "kernelspec": {
   "display_name": "Python 3",
   "language": "python",
   "name": "python3"
  },
  "language_info": {
   "codemirror_mode": {
    "name": "ipython",
    "version": 3
   },
   "file_extension": ".py",
   "mimetype": "text/x-python",
   "name": "python",
   "nbconvert_exporter": "python",
   "pygments_lexer": "ipython3",
   "version": "3.7.3"
  }
 },
 "nbformat": 4,
 "nbformat_minor": 2
}
