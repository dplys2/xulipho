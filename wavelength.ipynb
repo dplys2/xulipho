{
 "cells": [
  {
   "cell_type": "code",
   "execution_count": 1,
   "metadata": {},
   "outputs": [],
   "source": [
    "import numpy as np\n",
    "import pandas as pd\n",
    "\n",
    "dk = 3600-1600+1\n",
    "x1 = np.ones((dk))\n",
    "x2 = np.ones((dk))\n",
    "x3 = np.ones((dk))\n",
    "x4 = np.ones((dk))\n",
    "x5 = np.ones((dk))\n",
    "x6 = np.ones((dk))\n",
    "buocsong1 = 436.28841\n",
    "buocsong2 = 546.30482\n",
    "deltabs = buocsong2 - buocsong1"
   ]
  },
  {
   "cell_type": "code",
   "execution_count": 2,
   "metadata": {},
   "outputs": [],
   "source": [
    "c1 = 387\n",
    "c2 = 1070\n",
    "x1[c1-1]= buocsong1\n",
    "delta1 = deltabs/(c2-c1)\n",
    "\n",
    "for i in range(c1-2,-1,-1):\n",
    "    x1[i] = x1[i+1] - delta1\n",
    "    \n",
    "for i in range(c1, dk, 1):\n",
    "    x1[i] = x1[i-1] + delta1"
   ]
  },
  {
   "cell_type": "code",
   "execution_count": 3,
   "metadata": {},
   "outputs": [],
   "source": [
    "c1 = 360\n",
    "c2 = 1028\n",
    "x2[c1-1]= buocsong1\n",
    "delta2 = deltabs/(c2-c1)\n",
    "\n",
    "for i in range(c1-2,-1,-1):\n",
    "    x2[i] = x2[i+1] - delta2\n",
    "    \n",
    "for i in range(c1, dk, 1):\n",
    "    x2[i] = x2[i-1] + delta2"
   ]
  },
  {
   "cell_type": "code",
   "execution_count": 4,
   "metadata": {},
   "outputs": [],
   "source": [
    "c1 = 356\n",
    "c2 = 1009\n",
    "x3[c1-1]= buocsong1\n",
    "delta3 = deltabs/(c2-c1)\n",
    "\n",
    "for i in range(c1-2,-1,-1):\n",
    "    x3[i] = x3[i+1] - delta3\n",
    "    \n",
    "for i in range(c1, dk, 1):\n",
    "    x3[i] = x3[i-1] + delta3"
   ]
  },
  {
   "cell_type": "code",
   "execution_count": 5,
   "metadata": {},
   "outputs": [],
   "source": [
    "c1 = 352\n",
    "c2 = 1007\n",
    "x4[c1-1]= buocsong1\n",
    "delta4 = deltabs/(c2-c1)\n",
    "\n",
    "for i in range(c1-2,-1,-1):\n",
    "    x4[i] = x4[i+1] - delta4\n",
    "    \n",
    "for i in range(c1, dk, 1):\n",
    "    x4[i] = x4[i-1] + delta4"
   ]
  },
  {
   "cell_type": "code",
   "execution_count": 6,
   "metadata": {},
   "outputs": [],
   "source": [
    "c1 = 367\n",
    "c2 = 1018\n",
    "x5[c1-1]= buocsong1\n",
    "delta5 = deltabs/(c2-c1)\n",
    "\n",
    "for i in range(c1-2,-1,-1):\n",
    "    x5[i] = x5[i+1] - delta5\n",
    "    \n",
    "for i in range(c1, dk, 1):\n",
    "    x5[i] = x5[i-1] + delta5\n",
    "\n",
    "#x5 = x5 + 3"
   ]
  },
  {
   "cell_type": "code",
   "execution_count": 7,
   "metadata": {},
   "outputs": [],
   "source": [
    "c1 = 374\n",
    "c2 = 1048\n",
    "x6[c1-1]= buocsong1\n",
    "delta6 = deltabs/(c2-c1)\n",
    "\n",
    "for i in range(c1-2,-1,-1):\n",
    "    x6[i] = x6[i+1] - delta6\n",
    "    \n",
    "for i in range(c1, dk, 1):\n",
    "    x6[i] = x6[i-1] + delta6\n",
    "\n",
    "#x6 = x6 + 3"
   ]
  },
  {
   "cell_type": "code",
   "execution_count": 9,
   "metadata": {},
   "outputs": [],
   "source": [
    "solieu = np.column_stack((x1,x2,x3,x4,x5,x6))\n",
    "filename = 'D:\\DataE\\\\20190714\\CAL\\\\rawcal.csv'\n",
    "df = pd.DataFrame(solieu)\n",
    "df.to_csv(filename, index = False)"
   ]
  },
  {
   "cell_type": "code",
   "execution_count": 12,
   "metadata": {},
   "outputs": [],
   "source": [
    "df = pd.read_csv('D:\\DataE\\\\20190714\\\\MO\\\\mo.csv')\n",
    "solieu = np.column_stack((x1,df['0'],x2,df['1'],x3,df['2'],x4,df['3'],x5,df['4'],x6,df['5']))\n",
    "filename = 'D:\\DataE\\\\20190714\\\\MO\\\\test.csv'\n",
    "df = pd.DataFrame(solieu)\n",
    "df.to_csv(filename, index = False)"
   ]
  },
  {
   "cell_type": "code",
   "execution_count": null,
   "metadata": {},
   "outputs": [],
   "source": [
    "for i in range(2,8,1):\n",
    "    filepath = 'D:\\DataE\\\\20190714\\\\MBTT\\\\'\n",
    "    df = pd.read_csv('D:\\DataE\\\\20190714\\\\MBTT\\\\' + 'cmau' + str(i) + '.csv')\n",
    "    solieu = np.column_stack((x1,df['0'],x2,df['1'],x3,df['2'],x4,df['3'],x5,df['4'],x6,df['5']))\n",
    "    filename = filepath + 'cmau' + str(i) + '.csv'\n",
    "    df = pd.DataFrame(solieu)\n",
    "    df.to_csv(filename, index = False)"
   ]
  }
 ],
 "metadata": {
  "kernelspec": {
   "display_name": "Python 3",
   "language": "python",
   "name": "python3"
  },
  "language_info": {
   "codemirror_mode": {
    "name": "ipython",
    "version": 3
   },
   "file_extension": ".py",
   "mimetype": "text/x-python",
   "name": "python",
   "nbconvert_exporter": "python",
   "pygments_lexer": "ipython3",
   "version": "3.7.3"
  }
 },
 "nbformat": 4,
 "nbformat_minor": 2
}
