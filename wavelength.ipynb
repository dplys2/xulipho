{
 "cells": [
  {
   "cell_type": "code",
   "execution_count": 62,
   "metadata": {},
   "outputs": [],
   "source": [
    "import numpy as np\n",
    "import pandas as pd\n",
    "\n",
    "dk = 2001\n",
    "x1 = np.ones((dk))\n",
    "x2 = np.ones((dk))\n",
    "x3 = np.ones((dk))\n",
    "x4 = np.ones((dk))\n",
    "x5 = np.ones((dk))\n",
    "x6 = np.ones((dk))\n",
    "buocsong1 = 449.0\n",
    "buocsong2 = 578.0\n",
    "deltabs = buocsong2 - buocsong1"
   ]
  },
  {
   "cell_type": "code",
   "execution_count": 63,
   "metadata": {},
   "outputs": [],
   "source": [
    "c1 = 346\n",
    "c2 = 1195\n",
    "x1[c1-1]= buocsong1\n",
    "delta1 = deltabs/(c2-c1)\n",
    "\n",
    "for i in range(c1-2,-1,-1):\n",
    "    x1[i] = x1[i+1] - delta1\n",
    "    \n",
    "for i in range(c1, 2001, 1):\n",
    "    x1[i] = x1[i-1] + delta1"
   ]
  },
  {
   "cell_type": "code",
   "execution_count": 64,
   "metadata": {},
   "outputs": [],
   "source": [
    "c1 = 317\n",
    "c2 = 1171\n",
    "x2[c1-1]= buocsong1\n",
    "delta2 = deltabs/(c2-c1)\n",
    "\n",
    "for i in range(c1-2,-1,-1):\n",
    "    x2[i] = x2[i+1] - delta2\n",
    "    \n",
    "for i in range(c1, 2001, 1):\n",
    "    x2[i] = x2[i-1] + delta2"
   ]
  },
  {
   "cell_type": "code",
   "execution_count": 65,
   "metadata": {},
   "outputs": [],
   "source": [
    "c1 = 308\n",
    "c2 = 1147\n",
    "x3[c1-1]= buocsong1\n",
    "delta3 = deltabs/(c2-c1)\n",
    "\n",
    "for i in range(c1-2,-1,-1):\n",
    "    x3[i] = x3[i+1] - delta3\n",
    "    \n",
    "for i in range(c1, 2001, 1):\n",
    "    x3[i] = x3[i-1] + delta3"
   ]
  },
  {
   "cell_type": "code",
   "execution_count": 66,
   "metadata": {},
   "outputs": [],
   "source": [
    "c1 = 322\n",
    "c2 = 1157\n",
    "x4[c1-1]= buocsong1\n",
    "delta4 = deltabs/(c2-c1)\n",
    "\n",
    "for i in range(c1-2,-1,-1):\n",
    "    x4[i] = x4[i+1] - delta4\n",
    "    \n",
    "for i in range(c1, 2001, 1):\n",
    "    x4[i] = x4[i-1] + delta4"
   ]
  },
  {
   "cell_type": "code",
   "execution_count": 67,
   "metadata": {},
   "outputs": [],
   "source": [
    "c1 = 337\n",
    "c2 = 1171\n",
    "x5[c1-1]= buocsong1\n",
    "delta5 = deltabs/(c2-c1)\n",
    "\n",
    "for i in range(c1-2,-1,-1):\n",
    "    x5[i] = x5[i+1] - delta5\n",
    "    \n",
    "for i in range(c1, 2001, 1):\n",
    "    x5[i] = x5[i-1] + delta5"
   ]
  },
  {
   "cell_type": "code",
   "execution_count": 68,
   "metadata": {},
   "outputs": [],
   "source": [
    "c1 = 375\n",
    "c2 = 1219\n",
    "x6[c1-1]= buocsong1\n",
    "delta6 = deltabs/(c2-c1)\n",
    "\n",
    "for i in range(c1-2,-1,-1):\n",
    "    x6[i] = x6[i+1] - delta6\n",
    "    \n",
    "for i in range(c1, 2001, 1):\n",
    "    x6[i] = x6[i-1] + delta6"
   ]
  },
  {
   "cell_type": "code",
   "execution_count": 85,
   "metadata": {},
   "outputs": [],
   "source": [
    "solieu = np.column_stack((x1,x2,x3,x4,x5,x6))\n",
    "filename = 'D:\\DataE\\\\cal.csv'\n",
    "df = pd.DataFrame(solieu)\n",
    "df.to_csv(filename, index = False)"
   ]
  },
  {
   "cell_type": "code",
   "execution_count": 86,
   "metadata": {},
   "outputs": [],
   "source": [
    "df = pd.read_csv('D:\\DataE\\\\20190625MB\\solieumethyleneblue.csv')\n",
    "solieu = np.column_stack((x1,df['0'],x2,df['1'],x3,df['2'],x4,df['3'],x5,df['4'],x6,df['5']))\n",
    "filename = 'D:\\DataE\\\\caltt.csv'\n",
    "df = pd.DataFrame(solieu)\n",
    "df.to_csv(filename, index = False)"
   ]
  },
  {
   "cell_type": "code",
   "execution_count": null,
   "metadata": {},
   "outputs": [],
   "source": []
  }
 ],
 "metadata": {
  "kernelspec": {
   "display_name": "Python 3",
   "language": "python",
   "name": "python3"
  },
  "language_info": {
   "codemirror_mode": {
    "name": "ipython",
    "version": 3
   },
   "file_extension": ".py",
   "mimetype": "text/x-python",
   "name": "python",
   "nbconvert_exporter": "python",
   "pygments_lexer": "ipython3",
   "version": "3.7.3"
  }
 },
 "nbformat": 4,
 "nbformat_minor": 2
}
